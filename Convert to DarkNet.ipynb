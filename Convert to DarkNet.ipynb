{
 "cells": [
  {
   "cell_type": "code",
   "execution_count": 2,
   "id": "patient-request",
   "metadata": {},
   "outputs": [],
   "source": [
    "import pandas as pd\n",
    "import matplotlib.pyplot as plt\n",
    "from pydicom import dcmread\n",
    "from pydicom.data import get_testdata_file\n",
    "import cv2 "
   ]
  },
  {
   "cell_type": "code",
   "execution_count": 3,
   "id": "overhead-centre",
   "metadata": {},
   "outputs": [],
   "source": [
    "dataset = pd.read_csv(\"stage_2_train_labels.csv\")"
   ]
  },
  {
   "cell_type": "code",
   "execution_count": 4,
   "id": "answering-customer",
   "metadata": {},
   "outputs": [],
   "source": [
    "array = dataset[dataset['Target']!=0].values"
   ]
  },
  {
   "cell_type": "code",
   "execution_count": 20,
   "id": "lasting-latin",
   "metadata": {},
   "outputs": [
    {
     "name": "stdout",
     "output_type": "stream",
     "text": [
      "Unsuccessful  38ead95b-c698-4cef-bec8-3f95005484c3\n",
      "Unsuccessful  38f2df56-b804-4c70-811e-b01f1aac0216\n",
      "Unsuccessful  38f2df56-b804-4c70-811e-b01f1aac0216\n"
     ]
    }
   ],
   "source": [
    "for x in array:\n",
    "    try:\n",
    "        name = x[0]\n",
    "        ds = dcmread(\"stage_2_train_images/\"+ name +\".dcm\")\n",
    "        cv2.imwrite(\"obj/\"+name+\".jpg\",ds.pixel_array)\n",
    "        file = open(\"obj/\"+name+\".txt\",'w')\n",
    "        file.write(\"0 \"+str((x[1]/2)/1024)+\" \"+str((x[2]/2)/1024)+\" \"+str(x[3]/1024)+\" \"+str(x[4]/1024))\n",
    "        file.close()\n",
    "    except:\n",
    "        print(\"Unsuccessful \",x[0])"
   ]
  },
  {
   "cell_type": "code",
   "execution_count": 25,
   "id": "infinite-meaning",
   "metadata": {},
   "outputs": [],
   "source": [
    "index = array[345]\n",
    "x = int(index[1])\n",
    "y = int(index[2])\n",
    "w = int(index[3])\n",
    "h = int(index[4])"
   ]
  },
  {
   "cell_type": "code",
   "execution_count": 26,
   "id": "median-desert",
   "metadata": {},
   "outputs": [],
   "source": [
    "img = cv2.imread(\"obj/\"+index[0]+\".jpg\")\n",
    "cv2.rectangle(img,(x,y),(x+w,y+h),(255,255,0),4)\n",
    "img = cv2.resize(img,(512,512))\n",
    "cv2.imshow(\"Image\",img)\n",
    "cv2.waitKey()\n",
    "cv2.destroyAllWindows()"
   ]
  },
  {
   "cell_type": "code",
   "execution_count": 22,
   "id": "injured-creator",
   "metadata": {},
   "outputs": [],
   "source": []
  },
  {
   "cell_type": "code",
   "execution_count": null,
   "id": "trained-capability",
   "metadata": {},
   "outputs": [],
   "source": []
  }
 ],
 "metadata": {
  "kernelspec": {
   "display_name": "Python 3",
   "language": "python",
   "name": "python3"
  },
  "language_info": {
   "codemirror_mode": {
    "name": "ipython",
    "version": 3
   },
   "file_extension": ".py",
   "mimetype": "text/x-python",
   "name": "python",
   "nbconvert_exporter": "python",
   "pygments_lexer": "ipython3",
   "version": "3.8.3"
  }
 },
 "nbformat": 4,
 "nbformat_minor": 5
}
